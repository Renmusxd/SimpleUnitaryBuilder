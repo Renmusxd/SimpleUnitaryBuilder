{
 "cells": [
  {
   "cell_type": "code",
   "execution_count": 1,
   "id": "91daa4b0",
   "metadata": {},
   "outputs": [],
   "source": [
    "import numpy\n",
    "import py_qip"
   ]
  },
  {
   "cell_type": "markdown",
   "id": "3bad9b85",
   "metadata": {},
   "source": [
    "## Simple Timings"
   ]
  },
  {
   "cell_type": "code",
   "execution_count": 2,
   "id": "0c0976dd",
   "metadata": {},
   "outputs": [
    {
     "data": {
      "text/plain": [
       "array([1.+0.j, 0.+0.j, 0.+0.j, ..., 0.+0.j, 0.+0.j, 0.+0.j])"
      ]
     },
     "execution_count": 2,
     "metadata": {},
     "output_type": "execute_result"
    }
   ],
   "source": [
    "b = py_qip.Circuit(qubits=10)\n",
    "b.run_circuit()"
   ]
  },
  {
   "cell_type": "code",
   "execution_count": 3,
   "id": "b62a3ad2",
   "metadata": {},
   "outputs": [
    {
     "name": "stdout",
     "output_type": "stream",
     "text": [
      "49.5 µs ± 370 ns per loop (mean ± std. dev. of 7 runs, 10,000 loops each)\n"
     ]
    }
   ],
   "source": [
    "b.apply_unitary([0], numpy.array([[0,1],[1,0]], dtype=numpy.complex128))\n",
    "\n",
    "%timeit b.run_circuit()"
   ]
  },
  {
   "cell_type": "code",
   "execution_count": 4,
   "id": "1e1af38b",
   "metadata": {},
   "outputs": [
    {
     "name": "stdout",
     "output_type": "stream",
     "text": [
      "95.6 µs ± 2.61 µs per loop (mean ± std. dev. of 7 runs, 10,000 loops each)\n"
     ]
    }
   ],
   "source": [
    "b.apply_unitary([9,0], numpy.array([[0,0,0,1],[0,0,1,0],[0,1,0,0],[1,0,0,0]], dtype=numpy.complex128))\n",
    "\n",
    "%timeit b.run_circuit()"
   ]
  },
  {
   "cell_type": "markdown",
   "id": "abab06e6",
   "metadata": {},
   "source": [
    "## Initial States"
   ]
  },
  {
   "cell_type": "code",
   "execution_count": 5,
   "id": "da23598d",
   "metadata": {},
   "outputs": [],
   "source": [
    "b = py_qip.Circuit(qubits=2)\n",
    "b.apply_unitary([0], numpy.array([[0,1],[1,0]], dtype=numpy.complex128))"
   ]
  },
  {
   "cell_type": "code",
   "execution_count": 6,
   "id": "fca2712e",
   "metadata": {},
   "outputs": [
    {
     "data": {
      "text/plain": [
       "array([0.+0.j, 0.+0.j, 1.+0.j, 0.+0.j])"
      ]
     },
     "execution_count": 6,
     "metadata": {},
     "output_type": "execute_result"
    }
   ],
   "source": [
    "# Apply X to |0,0>\n",
    "b.run_circuit()"
   ]
  },
  {
   "cell_type": "code",
   "execution_count": 7,
   "id": "8aefc574",
   "metadata": {},
   "outputs": [
    {
     "data": {
      "text/plain": [
       "array([0.+0.j, 1.+0.j, 0.+0.j, 0.+0.j])"
      ]
     },
     "execution_count": 7,
     "metadata": {},
     "output_type": "execute_result"
    }
   ],
   "source": [
    "# Apply X to |1,1>\n",
    "b.run_circuit(initial_state=[(0, True), (1, True)])"
   ]
  }
 ],
 "metadata": {
  "kernelspec": {
   "display_name": "Python 3 (ipykernel)",
   "language": "python",
   "name": "python3"
  },
  "language_info": {
   "codemirror_mode": {
    "name": "ipython",
    "version": 3
   },
   "file_extension": ".py",
   "mimetype": "text/x-python",
   "name": "python",
   "nbconvert_exporter": "python",
   "pygments_lexer": "ipython3",
   "version": "3.10.6"
  }
 },
 "nbformat": 4,
 "nbformat_minor": 5
}
